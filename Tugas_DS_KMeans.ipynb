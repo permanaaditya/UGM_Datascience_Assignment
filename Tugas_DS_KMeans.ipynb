{
  "nbformat": 4,
  "nbformat_minor": 0,
  "metadata": {
    "colab": {
      "name": "Tugas_DS_KMeans.ipynb",
      "provenance": [],
      "mount_file_id": "1p6JFvEM9gGOvZKzZMwVdhD_EjqNdKEz4",
      "authorship_tag": "ABX9TyNE4QRf2e/R1WG9PhpdWfVU"
    },
    "kernelspec": {
      "name": "python3",
      "display_name": "Python 3"
    },
    "language_info": {
      "name": "python"
    }
  },
  "cells": [
    {
      "cell_type": "markdown",
      "metadata": {
        "id": "RXidIyprl54b"
      },
      "source": [
        "===================================\n",
        "\n",
        "**Aditya Permana**\n",
        "\n",
        "**20/466389/PPA/05955**\n",
        "\n",
        "==================================="
      ]
    },
    {
      "cell_type": "markdown",
      "metadata": {
        "id": "weHVPD95llU5"
      },
      "source": [
        "Import dataset and split into 70% data train and 30% data test"
      ]
    },
    {
      "cell_type": "code",
      "metadata": {
        "colab": {
          "base_uri": "https://localhost:8080/",
          "height": 694
        },
        "id": "XkLuSQ-SY7Mn",
        "outputId": "dadb2262-6cbf-4bf6-916c-0d60afe5a75d"
      },
      "source": [
        "import matplotlib.pyplot as plt\n",
        "import numpy as np\n",
        "import pandas as pd \n",
        "import seaborn as sns\n",
        "\n",
        "data = pd.read_excel('/content/drive/MyDrive/Semester Genap 2021-2022/Data Science/Tugas/dataset_univ_kmeans.xlsx',index_col = 0)\n",
        "data[\"Private\"] = data[\"Private\"].replace(\"Yes\",1)\n",
        "data[\"Private\"] = data[\"Private\"].replace(\"No\",0)\n",
        "data.head(200)"
      ],
      "execution_count": null,
      "outputs": [
        {
          "output_type": "execute_result",
          "data": {
            "text/html": [
              "<div>\n",
              "<style scoped>\n",
              "    .dataframe tbody tr th:only-of-type {\n",
              "        vertical-align: middle;\n",
              "    }\n",
              "\n",
              "    .dataframe tbody tr th {\n",
              "        vertical-align: top;\n",
              "    }\n",
              "\n",
              "    .dataframe thead th {\n",
              "        text-align: right;\n",
              "    }\n",
              "</style>\n",
              "<table border=\"1\" class=\"dataframe\">\n",
              "  <thead>\n",
              "    <tr style=\"text-align: right;\">\n",
              "      <th></th>\n",
              "      <th>Private</th>\n",
              "      <th>Apps</th>\n",
              "      <th>Accept</th>\n",
              "      <th>Enroll</th>\n",
              "      <th>Top10perc</th>\n",
              "      <th>Top25perc</th>\n",
              "      <th>F.Undergrad</th>\n",
              "      <th>P.Undergrad</th>\n",
              "      <th>Outstate</th>\n",
              "      <th>Room.Board</th>\n",
              "      <th>Books</th>\n",
              "      <th>Personal</th>\n",
              "      <th>PhD</th>\n",
              "      <th>Terminal</th>\n",
              "      <th>S.F.Ratio</th>\n",
              "      <th>perc.alumni</th>\n",
              "      <th>Expend</th>\n",
              "      <th>Grad.Rate</th>\n",
              "    </tr>\n",
              "  </thead>\n",
              "  <tbody>\n",
              "    <tr>\n",
              "      <th>Abilene Christian University</th>\n",
              "      <td>1</td>\n",
              "      <td>1660</td>\n",
              "      <td>1232</td>\n",
              "      <td>721</td>\n",
              "      <td>23</td>\n",
              "      <td>52</td>\n",
              "      <td>2885</td>\n",
              "      <td>537</td>\n",
              "      <td>7440</td>\n",
              "      <td>3300</td>\n",
              "      <td>450</td>\n",
              "      <td>2200</td>\n",
              "      <td>70</td>\n",
              "      <td>78</td>\n",
              "      <td>18.1</td>\n",
              "      <td>12</td>\n",
              "      <td>7041</td>\n",
              "      <td>60</td>\n",
              "    </tr>\n",
              "    <tr>\n",
              "      <th>Adelphi University</th>\n",
              "      <td>1</td>\n",
              "      <td>2186</td>\n",
              "      <td>1924</td>\n",
              "      <td>512</td>\n",
              "      <td>16</td>\n",
              "      <td>29</td>\n",
              "      <td>2683</td>\n",
              "      <td>1227</td>\n",
              "      <td>12280</td>\n",
              "      <td>6450</td>\n",
              "      <td>750</td>\n",
              "      <td>1500</td>\n",
              "      <td>29</td>\n",
              "      <td>30</td>\n",
              "      <td>12.2</td>\n",
              "      <td>16</td>\n",
              "      <td>10527</td>\n",
              "      <td>56</td>\n",
              "    </tr>\n",
              "    <tr>\n",
              "      <th>Adrian College</th>\n",
              "      <td>1</td>\n",
              "      <td>1428</td>\n",
              "      <td>1097</td>\n",
              "      <td>336</td>\n",
              "      <td>22</td>\n",
              "      <td>50</td>\n",
              "      <td>1036</td>\n",
              "      <td>99</td>\n",
              "      <td>11250</td>\n",
              "      <td>3750</td>\n",
              "      <td>400</td>\n",
              "      <td>1165</td>\n",
              "      <td>53</td>\n",
              "      <td>66</td>\n",
              "      <td>12.9</td>\n",
              "      <td>30</td>\n",
              "      <td>8735</td>\n",
              "      <td>54</td>\n",
              "    </tr>\n",
              "    <tr>\n",
              "      <th>Agnes Scott College</th>\n",
              "      <td>1</td>\n",
              "      <td>417</td>\n",
              "      <td>349</td>\n",
              "      <td>137</td>\n",
              "      <td>60</td>\n",
              "      <td>89</td>\n",
              "      <td>510</td>\n",
              "      <td>63</td>\n",
              "      <td>12960</td>\n",
              "      <td>5450</td>\n",
              "      <td>450</td>\n",
              "      <td>875</td>\n",
              "      <td>92</td>\n",
              "      <td>97</td>\n",
              "      <td>7.7</td>\n",
              "      <td>37</td>\n",
              "      <td>19016</td>\n",
              "      <td>59</td>\n",
              "    </tr>\n",
              "    <tr>\n",
              "      <th>Alaska Pacific University</th>\n",
              "      <td>1</td>\n",
              "      <td>193</td>\n",
              "      <td>146</td>\n",
              "      <td>55</td>\n",
              "      <td>16</td>\n",
              "      <td>44</td>\n",
              "      <td>249</td>\n",
              "      <td>869</td>\n",
              "      <td>7560</td>\n",
              "      <td>4120</td>\n",
              "      <td>800</td>\n",
              "      <td>1500</td>\n",
              "      <td>76</td>\n",
              "      <td>72</td>\n",
              "      <td>11.9</td>\n",
              "      <td>2</td>\n",
              "      <td>10922</td>\n",
              "      <td>15</td>\n",
              "    </tr>\n",
              "    <tr>\n",
              "      <th>...</th>\n",
              "      <td>...</td>\n",
              "      <td>...</td>\n",
              "      <td>...</td>\n",
              "      <td>...</td>\n",
              "      <td>...</td>\n",
              "      <td>...</td>\n",
              "      <td>...</td>\n",
              "      <td>...</td>\n",
              "      <td>...</td>\n",
              "      <td>...</td>\n",
              "      <td>...</td>\n",
              "      <td>...</td>\n",
              "      <td>...</td>\n",
              "      <td>...</td>\n",
              "      <td>...</td>\n",
              "      <td>...</td>\n",
              "      <td>...</td>\n",
              "      <td>...</td>\n",
              "    </tr>\n",
              "    <tr>\n",
              "      <th>Evergreen State College</th>\n",
              "      <td>0</td>\n",
              "      <td>1801</td>\n",
              "      <td>1101</td>\n",
              "      <td>438</td>\n",
              "      <td>14</td>\n",
              "      <td>50</td>\n",
              "      <td>3065</td>\n",
              "      <td>363</td>\n",
              "      <td>6297</td>\n",
              "      <td>4600</td>\n",
              "      <td>600</td>\n",
              "      <td>1323</td>\n",
              "      <td>75</td>\n",
              "      <td>78</td>\n",
              "      <td>18.1</td>\n",
              "      <td>14</td>\n",
              "      <td>8355</td>\n",
              "      <td>68</td>\n",
              "    </tr>\n",
              "    <tr>\n",
              "      <th>Fairfield University</th>\n",
              "      <td>1</td>\n",
              "      <td>4784</td>\n",
              "      <td>3346</td>\n",
              "      <td>781</td>\n",
              "      <td>30</td>\n",
              "      <td>66</td>\n",
              "      <td>2984</td>\n",
              "      <td>1037</td>\n",
              "      <td>15000</td>\n",
              "      <td>6200</td>\n",
              "      <td>700</td>\n",
              "      <td>1100</td>\n",
              "      <td>86</td>\n",
              "      <td>90</td>\n",
              "      <td>15.1</td>\n",
              "      <td>30</td>\n",
              "      <td>11220</td>\n",
              "      <td>94</td>\n",
              "    </tr>\n",
              "    <tr>\n",
              "      <th>Fayetteville State University</th>\n",
              "      <td>0</td>\n",
              "      <td>1455</td>\n",
              "      <td>1064</td>\n",
              "      <td>452</td>\n",
              "      <td>1</td>\n",
              "      <td>16</td>\n",
              "      <td>2632</td>\n",
              "      <td>617</td>\n",
              "      <td>6806</td>\n",
              "      <td>2550</td>\n",
              "      <td>350</td>\n",
              "      <td>766</td>\n",
              "      <td>75</td>\n",
              "      <td>75</td>\n",
              "      <td>15.1</td>\n",
              "      <td>10</td>\n",
              "      <td>6972</td>\n",
              "      <td>24</td>\n",
              "    </tr>\n",
              "    <tr>\n",
              "      <th>Ferrum College</th>\n",
              "      <td>1</td>\n",
              "      <td>1339</td>\n",
              "      <td>1107</td>\n",
              "      <td>336</td>\n",
              "      <td>12</td>\n",
              "      <td>36</td>\n",
              "      <td>1051</td>\n",
              "      <td>82</td>\n",
              "      <td>9400</td>\n",
              "      <td>4200</td>\n",
              "      <td>500</td>\n",
              "      <td>1600</td>\n",
              "      <td>53</td>\n",
              "      <td>58</td>\n",
              "      <td>12.5</td>\n",
              "      <td>9</td>\n",
              "      <td>7967</td>\n",
              "      <td>22</td>\n",
              "    </tr>\n",
              "    <tr>\n",
              "      <th>Flagler College</th>\n",
              "      <td>1</td>\n",
              "      <td>1415</td>\n",
              "      <td>714</td>\n",
              "      <td>338</td>\n",
              "      <td>18</td>\n",
              "      <td>52</td>\n",
              "      <td>1345</td>\n",
              "      <td>44</td>\n",
              "      <td>5120</td>\n",
              "      <td>3200</td>\n",
              "      <td>500</td>\n",
              "      <td>2140</td>\n",
              "      <td>52</td>\n",
              "      <td>60</td>\n",
              "      <td>18.1</td>\n",
              "      <td>9</td>\n",
              "      <td>3930</td>\n",
              "      <td>69</td>\n",
              "    </tr>\n",
              "  </tbody>\n",
              "</table>\n",
              "<p>200 rows × 18 columns</p>\n",
              "</div>"
            ],
            "text/plain": [
              "                               Private  Apps  ...  Expend  Grad.Rate\n",
              "Abilene Christian University         1  1660  ...    7041         60\n",
              "Adelphi University                   1  2186  ...   10527         56\n",
              "Adrian College                       1  1428  ...    8735         54\n",
              "Agnes Scott College                  1   417  ...   19016         59\n",
              "Alaska Pacific University            1   193  ...   10922         15\n",
              "...                                ...   ...  ...     ...        ...\n",
              "Evergreen State College              0  1801  ...    8355         68\n",
              "Fairfield University                 1  4784  ...   11220         94\n",
              "Fayetteville State University        0  1455  ...    6972         24\n",
              "Ferrum College                       1  1339  ...    7967         22\n",
              "Flagler College                      1  1415  ...    3930         69\n",
              "\n",
              "[200 rows x 18 columns]"
            ]
          },
          "metadata": {
            "tags": []
          },
          "execution_count": 17
        }
      ]
    },
    {
      "cell_type": "markdown",
      "metadata": {
        "id": "CJXuu4vdm-22"
      },
      "source": [
        "Get some initial statistics from both dataset"
      ]
    },
    {
      "cell_type": "code",
      "metadata": {
        "colab": {
          "base_uri": "https://localhost:8080/"
        },
        "id": "EZJH7L-Om9iu",
        "outputId": "8aef3e88-403b-4dd3-857c-0efa5c902bbf"
      },
      "source": [
        "print(\"Dataset statistics\")\n",
        "print(data.describe())\n",
        "print(\"\\n\")\n"
      ],
      "execution_count": null,
      "outputs": [
        {
          "output_type": "stream",
          "text": [
            "Dataset statistics\n",
            "          Private          Apps  ...        Expend  Grad.Rate\n",
            "count  777.000000    777.000000  ...    777.000000  777.00000\n",
            "mean     0.727156   3001.638353  ...   9660.171171   65.46332\n",
            "std      0.445708   3870.201484  ...   5221.768440   17.17771\n",
            "min      0.000000     81.000000  ...   3186.000000   10.00000\n",
            "25%      0.000000    776.000000  ...   6751.000000   53.00000\n",
            "50%      1.000000   1558.000000  ...   8377.000000   65.00000\n",
            "75%      1.000000   3624.000000  ...  10830.000000   78.00000\n",
            "max      1.000000  48094.000000  ...  56233.000000  118.00000\n",
            "\n",
            "[8 rows x 18 columns]\n",
            "\n",
            "\n"
          ],
          "name": "stdout"
        }
      ]
    },
    {
      "cell_type": "markdown",
      "metadata": {
        "id": "1yhD11cw_LSS"
      },
      "source": [
        "Check the N/A value from both dataset"
      ]
    },
    {
      "cell_type": "code",
      "metadata": {
        "colab": {
          "base_uri": "https://localhost:8080/"
        },
        "id": "w_5AOexy_K6O",
        "outputId": "ae31243d-16a2-4453-9cab-f564554e6bc7"
      },
      "source": [
        "print(\"Missing value in train dataset : \\n\")\n",
        "print(data.isna().sum())\n",
        "print(\"\\n\")"
      ],
      "execution_count": null,
      "outputs": [
        {
          "output_type": "stream",
          "text": [
            "Missing value in train dataset : \n",
            "\n",
            "Private        0\n",
            "Apps           0\n",
            "Accept         0\n",
            "Enroll         0\n",
            "Top10perc      0\n",
            "Top25perc      0\n",
            "F.Undergrad    0\n",
            "P.Undergrad    0\n",
            "Outstate       0\n",
            "Room.Board     0\n",
            "Books          0\n",
            "Personal       0\n",
            "PhD            0\n",
            "Terminal       0\n",
            "S.F.Ratio      0\n",
            "perc.alumni    0\n",
            "Expend         0\n",
            "Grad.Rate      0\n",
            "dtype: int64\n",
            "\n",
            "\n"
          ],
          "name": "stdout"
        }
      ]
    },
    {
      "cell_type": "markdown",
      "metadata": {
        "id": "jeff9H4-ARdi"
      },
      "source": [
        "There is no missing value in Training Dataset and Testing Dataset"
      ]
    },
    {
      "cell_type": "markdown",
      "metadata": {
        "id": "fueacjRMj7Wf"
      },
      "source": [
        "Below is the chart of Room.Board with Outstate"
      ]
    },
    {
      "cell_type": "code",
      "metadata": {
        "colab": {
          "base_uri": "https://localhost:8080/",
          "height": 282
        },
        "id": "FObLs7uNAuxw",
        "outputId": "8b546744-3888-4650-d0a0-907614d91cf3"
      },
      "source": [
        "plt.scatter(data.iloc[:,10],data.iloc[:,9],c=data.iloc[:,1],cmap=\"rainbow\")"
      ],
      "execution_count": null,
      "outputs": [
        {
          "output_type": "execute_result",
          "data": {
            "text/plain": [
              "<matplotlib.collections.PathCollection at 0x7f54e4429d90>"
            ]
          },
          "metadata": {
            "tags": []
          },
          "execution_count": 20
        },
        {
          "output_type": "display_data",
          "data": {
            "image/png": "[encoded data removed]",
            "text/plain": [
              "<Figure size 432x288 with 1 Axes>"
            ]
          },
          "metadata": {
            "tags": [],
            "needs_background": "light"
          }
        }
      ]
    },
    {
      "cell_type": "markdown",
      "metadata": {
        "id": "EzrQXU5RkJtN"
      },
      "source": [
        "Below is the chart of F.Undergrad with Outstate"
      ]
    },
    {
      "cell_type": "code",
      "metadata": {
        "colab": {
          "base_uri": "https://localhost:8080/",
          "height": 282
        },
        "id": "4bqvcMQxkQ8D",
        "outputId": "060adf72-deb5-49ec-c992-412c81a0b66f"
      },
      "source": [
        "plt.scatter(data.iloc[:,9],data.iloc[:,7],c=data.iloc[:,1],cmap=\"rainbow\")"
      ],
      "execution_count": null,
      "outputs": [
        {
          "output_type": "execute_result",
          "data": {
            "text/plain": [
              "<matplotlib.collections.PathCollection at 0x7f54e44e9750>"
            ]
          },
          "metadata": {
            "tags": []
          },
          "execution_count": 21
        },
        {
          "output_type": "display_data",
          "data": {
            "image/png": "[encoded data removed]",
            "text/plain": [
              "<Figure size 432x288 with 1 Axes>"
            ]
          },
          "metadata": {
            "tags": [],
            "needs_background": "light"
          }
        }
      ]
    },
    {
      "cell_type": "markdown",
      "metadata": {
        "id": "bzAPPD6LKId1"
      },
      "source": [
        "Histogram of Out-of-State Tuition based on Private Column"
      ]
    },
    {
      "cell_type": "code",
      "metadata": {
        "colab": {
          "base_uri": "https://localhost:8080/",
          "height": 485
        },
        "id": "jI0ckNH9KHaU",
        "outputId": "d4b617a1-c76d-48b1-943b-34843cb9f9bd"
      },
      "source": [
        "graph = sns.FacetGrid(data, hue=\"Private\", size=6, aspect=2)\n",
        "graph = graph.map(plt.hist, \"Outstate\", bins=20, alpha=0.7)"
      ],
      "execution_count": null,
      "outputs": [
        {
          "output_type": "stream",
          "text": [
            "/usr/local/lib/python3.7/dist-packages/seaborn/axisgrid.py:316: UserWarning: The `size` parameter has been renamed to `height`; please update your code.\n",
            "  warnings.warn(msg, UserWarning)\n"
          ],
          "name": "stderr"
        },
        {
          "output_type": "display_data",
          "data": {
            "image/png": "[encoded data removed]",
            "text/plain": [
              "<Figure size 864x432 with 1 Axes>"
            ]
          },
          "metadata": {
            "tags": [],
            "needs_background": "light"
          }
        }
      ]
    },
    {
      "cell_type": "markdown",
      "metadata": {
        "id": "yR4as5CrY-L1"
      },
      "source": [
        "Histogram of Grad.Rate based on Private Column"
      ]
    },
    {
      "cell_type": "code",
      "metadata": {
        "colab": {
          "base_uri": "https://localhost:8080/",
          "height": 485
        },
        "id": "-KvC1OoRY9YL",
        "outputId": "a890fd14-fecb-4d5c-bcce-ebc7d4c66345"
      },
      "source": [
        "graph = sns.FacetGrid(data, hue=\"Private\", size=6, aspect=2)\n",
        "graph = graph.map(plt.hist, \"Grad.Rate\", bins=20, alpha=0.7)"
      ],
      "execution_count": null,
      "outputs": [
        {
          "output_type": "stream",
          "text": [
            "/usr/local/lib/python3.7/dist-packages/seaborn/axisgrid.py:316: UserWarning: The `size` parameter has been renamed to `height`; please update your code.\n",
            "  warnings.warn(msg, UserWarning)\n"
          ],
          "name": "stderr"
        },
        {
          "output_type": "display_data",
          "data": {
            "image/png": "[encoded data removed]",
            "text/plain": [
              "<Figure size 864x432 with 1 Axes>"
            ]
          },
          "metadata": {
            "tags": [],
            "needs_background": "light"
          }
        }
      ]
    },
    {
      "cell_type": "markdown",
      "metadata": {
        "id": "ysSJ51aveDiZ"
      },
      "source": [
        "Get the school that have graduation rate higher than 100%"
      ]
    },
    {
      "cell_type": "code",
      "metadata": {
        "colab": {
          "base_uri": "https://localhost:8080/",
          "height": 117
        },
        "id": "JUKrOXyaeLuy",
        "outputId": "8f05de66-d910-47a4-de59-9a2d9a689387"
      },
      "source": [
        "data[data[\"Grad.Rate\"]>100]"
      ],
      "execution_count": null,
      "outputs": [
        {
          "output_type": "execute_result",
          "data": {
            "text/html": [
              "<div>\n",
              "<style scoped>\n",
              "    .dataframe tbody tr th:only-of-type {\n",
              "        vertical-align: middle;\n",
              "    }\n",
              "\n",
              "    .dataframe tbody tr th {\n",
              "        vertical-align: top;\n",
              "    }\n",
              "\n",
              "    .dataframe thead th {\n",
              "        text-align: right;\n",
              "    }\n",
              "</style>\n",
              "<table border=\"1\" class=\"dataframe\">\n",
              "  <thead>\n",
              "    <tr style=\"text-align: right;\">\n",
              "      <th></th>\n",
              "      <th>Private</th>\n",
              "      <th>Apps</th>\n",
              "      <th>Accept</th>\n",
              "      <th>Enroll</th>\n",
              "      <th>Top10perc</th>\n",
              "      <th>Top25perc</th>\n",
              "      <th>F.Undergrad</th>\n",
              "      <th>P.Undergrad</th>\n",
              "      <th>Outstate</th>\n",
              "      <th>Room.Board</th>\n",
              "      <th>Books</th>\n",
              "      <th>Personal</th>\n",
              "      <th>PhD</th>\n",
              "      <th>Terminal</th>\n",
              "      <th>S.F.Ratio</th>\n",
              "      <th>perc.alumni</th>\n",
              "      <th>Expend</th>\n",
              "      <th>Grad.Rate</th>\n",
              "    </tr>\n",
              "  </thead>\n",
              "  <tbody>\n",
              "    <tr>\n",
              "      <th>Cazenovia College</th>\n",
              "      <td>1</td>\n",
              "      <td>3847</td>\n",
              "      <td>3433</td>\n",
              "      <td>527</td>\n",
              "      <td>9</td>\n",
              "      <td>35</td>\n",
              "      <td>1010</td>\n",
              "      <td>12</td>\n",
              "      <td>9384</td>\n",
              "      <td>4840</td>\n",
              "      <td>600</td>\n",
              "      <td>500</td>\n",
              "      <td>22</td>\n",
              "      <td>47</td>\n",
              "      <td>14.3</td>\n",
              "      <td>20</td>\n",
              "      <td>7697</td>\n",
              "      <td>118</td>\n",
              "    </tr>\n",
              "  </tbody>\n",
              "</table>\n",
              "</div>"
            ],
            "text/plain": [
              "                   Private  Apps  Accept  ...  perc.alumni  Expend  Grad.Rate\n",
              "Cazenovia College        1  3847    3433  ...           20    7697        118\n",
              "\n",
              "[1 rows x 18 columns]"
            ]
          },
          "metadata": {
            "tags": []
          },
          "execution_count": 24
        }
      ]
    },
    {
      "cell_type": "markdown",
      "metadata": {
        "id": "0nY1Qh2zeWrJ"
      },
      "source": [
        "Because its not sense, so set the Grad.Rate to 100%"
      ]
    },
    {
      "cell_type": "code",
      "metadata": {
        "colab": {
          "base_uri": "https://localhost:8080/",
          "height": 485
        },
        "id": "Ai9QNmGJebuq",
        "outputId": "ffd62075-4f6f-4a07-e739-ee88d5ea8072"
      },
      "source": [
        "data.loc[data[\"Grad.Rate\"]>100, \"Grad.Rate\"] = 100\n",
        "graph = sns.FacetGrid(data, hue=\"Private\", size=6, aspect=2)\n",
        "graph = graph.map(plt.hist, \"Grad.Rate\", bins=20, alpha=0.7)"
      ],
      "execution_count": null,
      "outputs": [
        {
          "output_type": "stream",
          "text": [
            "/usr/local/lib/python3.7/dist-packages/seaborn/axisgrid.py:316: UserWarning: The `size` parameter has been renamed to `height`; please update your code.\n",
            "  warnings.warn(msg, UserWarning)\n"
          ],
          "name": "stderr"
        },
        {
          "output_type": "display_data",
          "data": {
            "image/png": "[encoded data removed]",
            "text/plain": [
              "<Figure size 864x432 with 1 Axes>"
            ]
          },
          "metadata": {
            "tags": [],
            "needs_background": "light"
          }
        }
      ]
    },
    {
      "cell_type": "markdown",
      "metadata": {
        "id": "woL8Dtnye33k"
      },
      "source": [
        "Create KMeans Cluster using SciKit Learn and fit the model to dataset except for Private column / label"
      ]
    },
    {
      "cell_type": "code",
      "metadata": {
        "colab": {
          "base_uri": "https://localhost:8080/"
        },
        "id": "2WLV_EY1pJfg",
        "outputId": "cab3d244-4ae2-42c3-de05-a6323b501c4c"
      },
      "source": [
        "from sklearn.cluster import KMeans\n",
        "x = data.iloc[:,[10,9]].values\n",
        "kmeans = KMeans(n_clusters=2)\n",
        "kmeans.fit(data.drop(\"Private\",axis=1))"
      ],
      "execution_count": null,
      "outputs": [
        {
          "output_type": "execute_result",
          "data": {
            "text/plain": [
              "KMeans(algorithm='auto', copy_x=True, init='k-means++', max_iter=300,\n",
              "       n_clusters=2, n_init=10, n_jobs=None, precompute_distances='auto',\n",
              "       random_state=None, tol=0.0001, verbose=0)"
            ]
          },
          "metadata": {
            "tags": []
          },
          "execution_count": 26
        }
      ]
    },
    {
      "cell_type": "markdown",
      "metadata": {
        "id": "baqb2gyXf63o"
      },
      "source": [
        "Get center of cluster vector"
      ]
    },
    {
      "cell_type": "code",
      "metadata": {
        "colab": {
          "base_uri": "https://localhost:8080/"
        },
        "id": "_zSnz4xFf9vz",
        "outputId": "bfc77247-cca4-40cc-8999-7aaee4605d05"
      },
      "source": [
        "kmeans.cluster_centers_"
      ],
      "execution_count": null,
      "outputs": [
        {
          "output_type": "execute_result",
          "data": {
            "text/plain": [
              "array([[1.03631389e+04, 6.55089815e+03, 2.56972222e+03, 4.14907407e+01,\n",
              "        7.02037037e+01, 1.30619352e+04, 2.46486111e+03, 1.07191759e+04,\n",
              "        4.64347222e+03, 5.95212963e+02, 1.71420370e+03, 8.63981481e+01,\n",
              "        9.13333333e+01, 1.40277778e+01, 2.00740741e+01, 1.41705000e+04,\n",
              "        6.75925926e+01],\n",
              "       [1.81323468e+03, 1.28716592e+03, 4.91044843e+02, 2.53094170e+01,\n",
              "        5.34708520e+01, 2.18854858e+03, 5.95458894e+02, 1.03957085e+04,\n",
              "        4.31136472e+03, 5.41982063e+02, 1.28033632e+03, 7.04424514e+01,\n",
              "        7.78251121e+01, 1.40997010e+01, 2.31748879e+01, 8.93204634e+03,\n",
              "        6.50926756e+01]])"
            ]
          },
          "metadata": {
            "tags": []
          },
          "execution_count": 27
        }
      ]
    },
    {
      "cell_type": "markdown",
      "metadata": {
        "id": "Yw6XNXN-gBHn"
      },
      "source": [
        "Evaluation process"
      ]
    },
    {
      "cell_type": "code",
      "metadata": {
        "colab": {
          "base_uri": "https://localhost:8080/"
        },
        "id": "YaUSYTNOgD3G",
        "outputId": "0efaa29b-3a3d-49bb-897d-cfb1d318f414"
      },
      "source": [
        "from sklearn.metrics import confusion_matrix, classification_report\n",
        "print(confusion_matrix(data[\"Private\"],kmeans.labels_))"
      ],
      "execution_count": null,
      "outputs": [
        {
          "output_type": "stream",
          "text": [
            "[[ 74 138]\n",
            " [ 34 531]]\n"
          ],
          "name": "stdout"
        }
      ]
    },
    {
      "cell_type": "markdown",
      "metadata": {
        "id": "UV6KRPyfgZle"
      },
      "source": [
        "Get classification report"
      ]
    },
    {
      "cell_type": "code",
      "metadata": {
        "colab": {
          "base_uri": "https://localhost:8080/"
        },
        "id": "XxUuBqr4gdML",
        "outputId": "83931e96-07b9-4580-b68c-fb4fe67277d5"
      },
      "source": [
        "print(classification_report(data[\"Private\"],kmeans.labels_))"
      ],
      "execution_count": null,
      "outputs": [
        {
          "output_type": "stream",
          "text": [
            "              precision    recall  f1-score   support\n",
            "\n",
            "           0       0.69      0.35      0.46       212\n",
            "           1       0.79      0.94      0.86       565\n",
            "\n",
            "    accuracy                           0.78       777\n",
            "   macro avg       0.74      0.64      0.66       777\n",
            "weighted avg       0.76      0.78      0.75       777\n",
            "\n"
          ],
          "name": "stdout"
        }
      ]
    }
  ]
}
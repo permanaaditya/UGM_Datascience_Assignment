{
  "nbformat": 4,
  "nbformat_minor": 0,
  "metadata": {
    "colab": {
      "name": "Tugas_DS_CNB_2.ipynb",
      "provenance": [],
      "authorship_tag": "ABX9TyMnkwgUdrsln4bFkHr9gMo/",
      "include_colab_link": true
    },
    "kernelspec": {
      "name": "python3",
      "display_name": "Python 3"
    },
    "language_info": {
      "name": "python"
    }
  },
  "cells": [
    {
      "cell_type": "markdown",
      "metadata": {
        "id": "view-in-github",
        "colab_type": "text"
      },
      "source": [
        "<a href=\"https://colab.research.google.com/github/permanaaditya/datascience/blob/main/Tugas_DS_CNB_2.ipynb\" target=\"_parent\"><img src=\"https://colab.research.google.com/assets/colab-badge.svg\" alt=\"Open In Colab\"/></a>"
      ]
    },
    {
      "cell_type": "code",
      "metadata": {
        "id": "CHKbLYzx3hR5"
      },
      "source": [
        "import matplotlib.pyplot as plt\n",
        "import nltk \n",
        "import numpy as np\n",
        "import pandas as pd \n",
        "import seaborn as sns \n",
        "from sklearn.feature_extraction.text import CountVectorizer\n",
        "from sklearn.metrics import roc_auc_score, roc_curve, confusion_matrix, precision_score, recall_score\n",
        "from sklearn.model_selection import train_test_split\n",
        "from sklearn.naive_bayes import MultinomialNB\n",
        "from sklearn.utils.multiclass import unique_labels"
      ],
      "execution_count": 1,
      "outputs": []
    },
    {
      "cell_type": "markdown",
      "metadata": {
        "id": "7ORnTiZ155Xh"
      },
      "source": [
        "Get dataset using csv file"
      ]
    },
    {
      "cell_type": "code",
      "metadata": {
        "colab": {
          "base_uri": "https://localhost:8080/",
          "height": 390
        },
        "id": "bZS2kh8u5yLC",
        "outputId": "7a1590c7-37cf-49e3-f5d9-505e94a37606"
      },
      "source": [
        "data = pd.read_csv('https://raw.githubusercontent.com/AiDevNepal/ai-saturdays-workshop-8/master/data/spam.csv')\n",
        "data['target'] = np.where(data['target']=='spam',1, 0)\n",
        "#data.head(10)\n",
        "data = data.drop(range(11,5572))\n",
        "data.head(20)"
      ],
      "execution_count": 14,
      "outputs": [
        {
          "output_type": "execute_result",
          "data": {
            "text/html": [
              "<div>\n",
              "<style scoped>\n",
              "    .dataframe tbody tr th:only-of-type {\n",
              "        vertical-align: middle;\n",
              "    }\n",
              "\n",
              "    .dataframe tbody tr th {\n",
              "        vertical-align: top;\n",
              "    }\n",
              "\n",
              "    .dataframe thead th {\n",
              "        text-align: right;\n",
              "    }\n",
              "</style>\n",
              "<table border=\"1\" class=\"dataframe\">\n",
              "  <thead>\n",
              "    <tr style=\"text-align: right;\">\n",
              "      <th></th>\n",
              "      <th>text</th>\n",
              "      <th>target</th>\n",
              "    </tr>\n",
              "  </thead>\n",
              "  <tbody>\n",
              "    <tr>\n",
              "      <th>0</th>\n",
              "      <td>Go until jurong point, crazy.. Available only ...</td>\n",
              "      <td>0</td>\n",
              "    </tr>\n",
              "    <tr>\n",
              "      <th>1</th>\n",
              "      <td>Ok lar... Joking wif u oni...</td>\n",
              "      <td>0</td>\n",
              "    </tr>\n",
              "    <tr>\n",
              "      <th>2</th>\n",
              "      <td>Free entry in 2 a wkly comp to win FA Cup fina...</td>\n",
              "      <td>1</td>\n",
              "    </tr>\n",
              "    <tr>\n",
              "      <th>3</th>\n",
              "      <td>U dun say so early hor... U c already then say...</td>\n",
              "      <td>0</td>\n",
              "    </tr>\n",
              "    <tr>\n",
              "      <th>4</th>\n",
              "      <td>Nah I don't think he goes to usf, he lives aro...</td>\n",
              "      <td>0</td>\n",
              "    </tr>\n",
              "    <tr>\n",
              "      <th>5</th>\n",
              "      <td>FreeMsg Hey there darling it's been 3 week's n...</td>\n",
              "      <td>1</td>\n",
              "    </tr>\n",
              "    <tr>\n",
              "      <th>6</th>\n",
              "      <td>Even my brother is not like to speak with me. ...</td>\n",
              "      <td>0</td>\n",
              "    </tr>\n",
              "    <tr>\n",
              "      <th>7</th>\n",
              "      <td>As per your request 'Melle Melle (Oru Minnamin...</td>\n",
              "      <td>0</td>\n",
              "    </tr>\n",
              "    <tr>\n",
              "      <th>8</th>\n",
              "      <td>WINNER!! As a valued network customer you have...</td>\n",
              "      <td>1</td>\n",
              "    </tr>\n",
              "    <tr>\n",
              "      <th>9</th>\n",
              "      <td>Had your mobile 11 months or more? U R entitle...</td>\n",
              "      <td>1</td>\n",
              "    </tr>\n",
              "    <tr>\n",
              "      <th>10</th>\n",
              "      <td>I'm gonna be home soon and i don't want to tal...</td>\n",
              "      <td>0</td>\n",
              "    </tr>\n",
              "  </tbody>\n",
              "</table>\n",
              "</div>"
            ],
            "text/plain": [
              "                                                 text  target\n",
              "0   Go until jurong point, crazy.. Available only ...       0\n",
              "1                       Ok lar... Joking wif u oni...       0\n",
              "2   Free entry in 2 a wkly comp to win FA Cup fina...       1\n",
              "3   U dun say so early hor... U c already then say...       0\n",
              "4   Nah I don't think he goes to usf, he lives aro...       0\n",
              "5   FreeMsg Hey there darling it's been 3 week's n...       1\n",
              "6   Even my brother is not like to speak with me. ...       0\n",
              "7   As per your request 'Melle Melle (Oru Minnamin...       0\n",
              "8   WINNER!! As a valued network customer you have...       1\n",
              "9   Had your mobile 11 months or more? U R entitle...       1\n",
              "10  I'm gonna be home soon and i don't want to tal...       0"
            ]
          },
          "metadata": {
            "tags": []
          },
          "execution_count": 14
        }
      ]
    },
    {
      "cell_type": "markdown",
      "metadata": {
        "id": "AKaq5iLv6GR_"
      },
      "source": [
        "Divide dataset into training and validation"
      ]
    },
    {
      "cell_type": "code",
      "metadata": {
        "id": "aZLw80bD6MJj"
      },
      "source": [
        "X_train, X_test, Y_train, Y_test = train_test_split(data['text'],data['target'], random_state=0)"
      ],
      "execution_count": 15,
      "outputs": []
    },
    {
      "cell_type": "markdown",
      "metadata": {
        "id": "YtQ9uX0W6Qke"
      },
      "source": [
        "Extract features"
      ]
    },
    {
      "cell_type": "code",
      "metadata": {
        "colab": {
          "base_uri": "https://localhost:8080/"
        },
        "id": "K803-gF86UA9",
        "outputId": "09ba3497-dd31-4bb8-cba2-f3594b20dc88"
      },
      "source": [
        "vectorizer = CountVectorizer(ngram_range=(1, 2)).fit(X_train)\n",
        "X_train_vectorized = vectorizer.transform(X_train)\n",
        "X_train_vectorized.toarray().shape"
      ],
      "execution_count": 16,
      "outputs": [
        {
          "output_type": "execute_result",
          "data": {
            "text/plain": [
              "(8, 256)"
            ]
          },
          "metadata": {
            "tags": []
          },
          "execution_count": 16
        }
      ]
    },
    {
      "cell_type": "markdown",
      "metadata": {
        "id": "p9Ize1Q76e7D"
      },
      "source": [
        "Create Complement Naive Bayes using Sklearn API"
      ]
    },
    {
      "cell_type": "code",
      "metadata": {
        "colab": {
          "base_uri": "https://localhost:8080/"
        },
        "id": "XECCQrS_6kdZ",
        "outputId": "3e8af4f5-b134-44e5-9b1d-19e013839628"
      },
      "source": [
        "from sklearn.model_selection import train_test_split\n",
        "from sklearn.metrics import accuracy_score, classification_report\n",
        "from sklearn.naive_bayes import ComplementNB\n",
        "classifier = ComplementNB()\n",
        "classifier.fit(X_train_vectorized, Y_train)"
      ],
      "execution_count": 43,
      "outputs": [
        {
          "output_type": "execute_result",
          "data": {
            "text/plain": [
              "ComplementNB(alpha=1.0, class_prior=None, fit_prior=True, norm=False)"
            ]
          },
          "metadata": {
            "tags": []
          },
          "execution_count": 43
        }
      ]
    },
    {
      "cell_type": "markdown",
      "metadata": {
        "id": "qtikdVVGMRFV"
      },
      "source": [
        "Test model by doing predictions on testing set"
      ]
    },
    {
      "cell_type": "code",
      "metadata": {
        "colab": {
          "base_uri": "https://localhost:8080/"
        },
        "id": "7iA1VR82MVp5",
        "outputId": "c82694b5-d5bf-43ba-ec37-db31a530adde"
      },
      "source": [
        "prediction = classifier.predict(vectorizer.transform(X_test))\n",
        "print(\"Accuracy:\", 100 * sum(prediction == Y_test) / len(prediction), '%')"
      ],
      "execution_count": 44,
      "outputs": [
        {
          "output_type": "stream",
          "text": [
            "Accuracy: 100.0 %\n"
          ],
          "name": "stdout"
        }
      ]
    },
    {
      "cell_type": "markdown",
      "metadata": {
        "id": "jiEHas3iNZ5Y"
      },
      "source": [
        "Test the model to the new email or data"
      ]
    },
    {
      "cell_type": "code",
      "metadata": {
        "colab": {
          "base_uri": "https://localhost:8080/"
        },
        "id": "rGWiqUmBNSFj",
        "outputId": "a8c0f917-ecc2-41ea-9a87-a02d6e9d1808"
      },
      "source": [
        "classifier.predict(vectorizer.transform(\n",
        "    [\n",
        "        \"Thank you, ABC. Can you also share your LinkedIn profile? As you are a good at programming at pyhthon, would be willing to see your personal/college projects.\",\n",
        "        \"Hi y’all, We have a Job Openings in the positions of software engineer, IT officer at ABC Company.Kindly, send us your resume and the cover letter as soon as possible if you think you are an eligible candidate and meet the criteria.\",\n",
        "        \"Dear ABC, Congratulations! You have been selected as a SOftware Developer at XYZ Company. We were really happy to see your enthusiasm for this vision and mission. We are impressed with your background and we think you would make an excellent addition to the team.\",\n",
        "    ])\n",
        "            )        "
      ],
      "execution_count": 45,
      "outputs": [
        {
          "output_type": "execute_result",
          "data": {
            "text/plain": [
              "array([1, 1, 1])"
            ]
          },
          "metadata": {
            "tags": []
          },
          "execution_count": 45
        }
      ]
    },
    {
      "cell_type": "markdown",
      "metadata": {
        "id": "u2Rv708uNvlW"
      },
      "source": [
        "Note : 1 means non-spam and 0 means spam"
      ]
    },
    {
      "cell_type": "markdown",
      "metadata": {
        "id": "GRJTcVrINkC8"
      },
      "source": [
        "Test the model using second email or data"
      ]
    },
    {
      "cell_type": "code",
      "metadata": {
        "colab": {
          "base_uri": "https://localhost:8080/"
        },
        "id": "Kopgvl_rNoVP",
        "outputId": "f73cfd76-db26-468c-cc0f-f32faf1dd093"
      },
      "source": [
        "classifier.predict(vectorizer.transform(\n",
        "    [\n",
        "        \"congratulations, you became today's lucky winner\",\n",
        "        \"1-month unlimited calls offer Activate now\",\n",
        "        \"Ram wants your phone number\",\n",
        "        \n",
        "    ])\n",
        "            )"
      ],
      "execution_count": 46,
      "outputs": [
        {
          "output_type": "execute_result",
          "data": {
            "text/plain": [
              "array([1, 1, 0])"
            ]
          },
          "metadata": {
            "tags": []
          },
          "execution_count": 46
        }
      ]
    }
  ]
}